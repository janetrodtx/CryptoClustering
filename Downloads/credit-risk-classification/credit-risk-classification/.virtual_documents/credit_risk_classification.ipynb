# Import the modules
import numpy as np
import pandas as pd
from pathlib import Path
from sklearn.metrics import confusion_matrix, classification_report
from sklearn.metrics import accuracy_score, precision_score, recall_score












# Read the CSV file from the Resources folder into a Pandas DataFrame
df_lending_data = pd.read_csv("Resources/lending_data.csv")

# Review the DataFrame
df_lending_data.head()





# Separate the data into labels and features

# Separate the y variable, the labels
y = df_lending_data['loan_status'] 


# Separate the X variable, the features
X = df_lending_data.drop(columns=['loan_status'])


# Review the y variable Series
y.head()


# Review the X variable DataFrame
X.head()





# Import the train_test_learn module
from sklearn.model_selection import train_test_split

# Split the data using train_test_split
# Assign a random_state of 1 to the function
X_train, X_test, y_train, y_test = train_test_split(X, y, random_state=1)











# Import the LogisticRegression module from SKLearn
from sklearn.linear_model import LogisticRegression

# Instantiate the Logistic Regression model
# Assign a random_state parameter of 1 to the model
model = LogisticRegression(max_iter=200, random_state=1)


# Fit the model using training data
model.fit(X_train, y_train)





# Make a prediction using the testing data
predictions = model.predict(X_test)





# Generate a confusion matrix for the model
cm = confusion_matrix(y_test, predictions)
cm_df = pd.DataFrame(
    cm, index=["Actual Healthy Loan 0", "Actual High-Risk Loan 1"], columns=["Predicted Healthy Loan 0", "Predicted High-Risk Loan 1"]
)


# Print the classification report for the model
print("Confusion Matrix")
display(cm_df)


# Calculate accuracy
accuracy = accuracy_score(y_test, predictions)
print(f"Accuracy: {accuracy:.4f}")

# Calculate precision
precision = precision_score(y_test, predictions)
print(f"Precision: {precision:.4f}")

# Calculate recall
recall = recall_score(y_test, predictions)
print(f"Recall: {recall:.4f}")












