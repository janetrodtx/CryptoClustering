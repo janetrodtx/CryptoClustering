# Import required libraries and dependencies
import pandas as pd
import hvplot.pandas
from sklearn.cluster import KMeans
from sklearn.decomposition import PCA
from sklearn.preprocessing import StandardScaler
from sklearn.metrics import silhouette_score


# Load the data into a Pandas DataFrame
df_market_data = pd.read_csv(
    "Resources/crypto_market_data.csv",
    index_col="coin_id")

# Display sample data
df_market_data.head(10)


# Generate summary statistics
df_market_data.describe().T


# Plot your data to see what's in your DataFrame
df_market_data.hvplot.line(
    width=800,
    height=400,
    rot=90
)








# Use the `StandardScaler()` module from scikit-learn to normalize the data from the CSV file
df_market_data_scaled = StandardScaler().fit_transform(df_market_data[['price_change_percentage_24h', 'price_change_percentage_7d', 
                                                                    'price_change_percentage_14d', 'price_change_percentage_30d', 
                                                                    'price_change_percentage_60d', 'price_change_percentage_200d',
                                                                    'price_change_percentage_1y']])
df_market_data_scaled[:5]


# Create a DataFrame with the scaled data
df_market_data_scaled = pd.DataFrame(df_market_data_scaled, columns=['price_change_percentage_24h', 'price_change_percentage_7d', 
                                                                    'price_change_percentage_14d', 'price_change_percentage_30d', 
                                                                    'price_change_percentage_60d', 'price_change_percentage_200d',
                                                                    'price_change_percentage_1y'])

# Copy the crypto names from the original DataFrame
df_market_data_scaled['coinid'] = df_market_data.index


# Set the coin_id column as index
df_market_data_scaled = df_market_data_scaled.set_index('coinid')


# Display the scaled DataFrame
df_market_data_scaled.head()








# Create a list with the number of k-values from 1 to 11
k = list(range(1,12))


# Create an empty list to store the inertia values
inertia = []

# Create a for loop to compute the inertia with each possible value of k
# Inside the loop:
# 1. Create a KMeans model using the loop counter for the n_clusters
# 2. Fit the model to the data using `df_market_data_scaled`
# 3. Append the model.inertia_ to the inertia list
for i in k:
    k_model = KMeans(n_clusters=i, random_state=0)
    k_model.fit(df_market_data_scaled)
    inertia.append(k_model.inertia_)


# Create a dictionary with the data to plot the Elbow curve
elbow_data = {"k": k, "inertia": inertia}

# Create a DataFrame with the data to plot the Elbow curve
df_elbow = pd.DataFrame(elbow_data)


# Plot a line chart with all the inertia values computed with
# the different values of k to visually identify the optimal value for k.
df_elbow.hvplot.line(
    x="k", 
    y="inertia", 
    title="Elbow Curve - Original Data", 
    xticks=k,
    color="red"
)











# Initialize the K-Means model using the best value for k
model = KMeans(n_clusters=4, random_state=1)


# Fit the K-Means model using the scaled DataFrame
model.fit(df_market_data_scaled)


# Predict the clusters to group the cryptocurrencies using the scaled DataFrame
k_4 = model.predict(df_market_data_scaled)

# Print the resulting array of cluster values.
k_4


# Create a copy of the scaled DataFrame
price_change_scaled_predictions_df = df_market_data_scaled.copy()


# Add a new column to the copy of the scaled DataFrame with the predicted clusters
price_change_scaled_predictions_df['crypto_segment'] = k_4


# Display the copy of the scaled DataFrame
price_change_scaled_predictions_df.head()


# Create a scatter plot using hvPlot by setting
# `x="price_change_percentage_24h"` and `y="price_change_percentage_7d"`.
# Color the graph points with the labels found using K-Means and
# add the crypto name in the `hover_cols` parameter to identify
# the cryptocurrency represented by each data point.
price_change_scaled_predictions_df.hvplot.scatter(
    x="price_change_percentage_24h",
    y="price_change_percentage_7d",
    by="crypto_segment",  # Color points by the cluster labels from K-Means
    hover_cols=["coinid"],  # Add the cryptocurrency name to hover information
    title="Crypto Segmentation based on K-Means Clustering (k=4)"
)








# Create a PCA model instance and set `n_components=3`.
pca = PCA(n_components=3)


# Use the PCA model with `fit_transform` to reduce the original scaled DataFrame
# down to three principal components.
crypto_pca = pca.fit_transform(df_market_data_scaled)

# View the scaled PCA data
crypto_pca[:5]


# Retrieve the explained variance to determine how much information
# can be attributed to each principal component.
pca.explained_variance_ratio_





# Create a new DataFrame with the PCA data.
crypto_pca_df = pd.DataFrame(
    crypto_pca,
    columns=["PCA1", "PCA2", "PCA3"]
)

# Copy the crypto names from the original scaled DataFrame
crypto_pca_df['coinid'] = df_market_data.index


# Set the coin_id column as index
crypto_pca_df.set_index('coinid', inplace=True)


# Display the scaled PCA DataFrame
crypto_pca_df.head()








# Create a list with the number of k-values from 1 to 11
k = list(range(1, 12))
k


# Create an empty list to store the inertia values
inertia = []

# Create a for loop to compute the inertia with each possible value of k
# Inside the loop:
# 1. Create a KMeans model using the loop counter for the n_clusters
# 2. Fit the model to the data using `df_market_data_pca`
# 3. Append the model.inertia_ to the inertia list
for i in k:
    k_model = KMeans(n_clusters=i, random_state=0)
    k_model.fit(crypto_pca_df)
    inertia.append(k_model.inertia_)
print(k)
print(inertia)


# Create a dictionary with the data to plot the Elbow curve
elbow_data = {"k": k, "inertia": inertia}
# Create a DataFrame with the data to plot the Elbow curve
df_elbow_pca = pd.DataFrame(elbow_data)

df_elbow_pca


# Plot a line chart with all the inertia values computed with
# the different values of k to visually identify the optimal value for k.
df_elbow_pca.hvplot.line(
    x="k",
    y="inertia",
    title="Elbow Curve - PCA Data",
    xticks=k
)








# Initialize the K-Means model using the best value for k
model = KMeans(n_clusters=4, random_state=0)


# Fit the K-Means model using the PCA data
model.fit(crypto_pca_df)


# Predict the clusters to group the cryptocurrencies using the scaled PCA DataFrame
k_4 = model.predict(crypto_pca_df)

# Print the resulting array of cluster values.
k_4


# Create a copy of the scaled PCA DataFrame
crypto_pca_predictions_df = crypto_pca_df.copy()


# Add a new column to the copy of the PCA DataFrame with the predicted clusters
crypto_pca_predictions_df["cryto_segments"] = k_4

# Display the copy of the scaled PCA DataFrame
crypto_pca_predictions_df.head()


# Create a scatter plot using hvPlot by setting
# `x="PC1"` and `y="PC2"`.
# Color the graph points with the labels found using K-Means and
# add the crypto name in the `hover_cols` parameter to identify
# the cryptocurrency represented by each data point.
crypto_pca_predictions_df.hvplot.scatter(
    x="PCA1",
    y="PCA2",
    by="cryto_segments",
    hover_cols=["coinid"],  # Add the cryptocurrency name to hover information
    title="PCA Crypto Segmentation based on K-Means Clustering (k=4)"
)





# Composite plot to contrast the Elbow curves
elbow_curve_original = df_elbow.hvplot.line(
    x="k", 
    y="inertia", 
    xlabel="Number of Clusters (k)", 
    ylabel="Inertia", 
    title="Elbow Curve - Original Data vs PCA Data",
    line_width=2,
    color="red",
    label='Original Data'  # Label for the original data
)

# Create the Elbow curve plot for the PCA data
elbow_curve_pca = df_elbow_pca.hvplot.line(
    x="k", 
    y="inertia", 
    xlabel="Number of Clusters (k)", 
    ylabel="Inertia", 
    line_width=2,
    color="blue",
    label='PCA Data'  # Label for the PCA data
)

# Combine the plots into a composite plot
composite_plot = elbow_curve_original * elbow_curve_pca

# Set the legend to the right of the plot
composite_plot.opts(legend_position='right')

# Display the composite plot
composite_plot


# Composite plot to contrast the clusters
# Scatter plot for the original data based on price changes
scatter_original = price_change_scaled_predictions_df.hvplot.scatter(
    x="price_change_percentage_24h",
    y="price_change_percentage_7d",
    xlabel="24h Price Change (%)",
    ylabel="7d Price Change (%)",
    by="crypto_segment",
    title="Cryto Segmentation - Orginal Data",
    hover_cols=["coinid"]
)

# Scatter plot for the PCA-transformed data
scatter_pca = crypto_pca_predictions_df.hvplot.scatter(
    x="PCA1",
    y="PCA2",
    by="cryto_segments",
    title="Cryto Segmentation - PCA Data",
    hover_cols=["coinid"]
)
# Overlay the scatter plots
composite_plot = (scatter_original + scatter_pca).cols(1)

# Display the overlay plot
composite_plot






